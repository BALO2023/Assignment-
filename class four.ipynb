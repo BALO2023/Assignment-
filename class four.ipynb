{
 "cells": [
  {
   "cell_type": "markdown",
   "id": "8c3613fb",
   "metadata": {},
   "source": [
    "## Lists\n",
    "- Python list is also a built-in data structure available in Python. It can contain heterogeneous values \n",
    "such as integers, floats, strings, tuples, lists, and dictionaries. \n",
    "However, Python lists are mutable; yes, they can change."
   ]
  },
  {
   "cell_type": "code",
   "execution_count": 1,
   "id": "1c27fcd6",
   "metadata": {},
   "outputs": [],
   "source": [
    "list1 = [1, 2, \"ade\", [\"apple\", \"banana\"], 2.5]"
   ]
  },
  {
   "cell_type": "code",
   "execution_count": 2,
   "id": "b6ede722",
   "metadata": {},
   "outputs": [],
   "source": [
    "# creating a list with values\n",
    "Avengers = ['hulk', 'iron-man', 'Captain', 'Thor', 5, [\"Ali\", \"Simbi\"]]\n",
    "\n",
    "# empty list"
   ]
  },
  {
   "cell_type": "code",
   "execution_count": null,
   "id": "9976d3d3",
   "metadata": {},
   "outputs": [],
   "source": [
    "Integer, floating numbers, strings"
   ]
  },
  {
   "cell_type": "code",
   "execution_count": null,
   "id": "2bac0d83",
   "metadata": {},
   "outputs": [],
   "source": [
    "numbers = [20, 30,540, 90.9, \"Bola\"]"
   ]
  },
  {
   "cell_type": "code",
   "execution_count": 3,
   "id": "96c5b79d",
   "metadata": {},
   "outputs": [
    {
     "data": {
      "text/plain": [
       "['hulk', 'iron-man', 'Captain', 'Thor', 5, ['Ali', 'Simbi']]"
      ]
     },
     "execution_count": 3,
     "metadata": {},
     "output_type": "execute_result"
    }
   ],
   "source": [
    "Avengers"
   ]
  },
  {
   "cell_type": "code",
   "execution_count": 3,
   "id": "6adfe4eb",
   "metadata": {},
   "outputs": [
    {
     "data": {
      "text/plain": [
       "['hulk', 'iron-man', 'Captain', 'Thor', 5, ['Ali', 'Simbi']]"
      ]
     },
     "execution_count": 3,
     "metadata": {},
     "output_type": "execute_result"
    }
   ],
   "source": [
    "Avengers"
   ]
  },
  {
   "cell_type": "markdown",
   "id": "5faeba2b",
   "metadata": {},
   "source": [
    "## Unpacking list values"
   ]
  },
  {
   "cell_type": "code",
   "execution_count": 4,
   "id": "b8c6fb03",
   "metadata": {},
   "outputs": [],
   "source": [
    "a, b = [1, 3]"
   ]
  },
  {
   "cell_type": "code",
   "execution_count": null,
   "id": "e342e3f5",
   "metadata": {},
   "outputs": [],
   "source": [
    "a = 1\n",
    "b = 3"
   ]
  },
  {
   "cell_type": "code",
   "execution_count": 14,
   "id": "302733d9",
   "metadata": {},
   "outputs": [
    {
     "data": {
      "text/plain": [
       "2"
      ]
     },
     "execution_count": 14,
     "metadata": {},
     "output_type": "execute_result"
    }
   ],
   "source": [
    "a"
   ]
  },
  {
   "cell_type": "code",
   "execution_count": 7,
   "id": "be5e01ed",
   "metadata": {},
   "outputs": [
    {
     "data": {
      "text/plain": [
       "3"
      ]
     },
     "execution_count": 7,
     "metadata": {},
     "output_type": "execute_result"
    }
   ],
   "source": [
    "b"
   ]
  },
  {
   "cell_type": "code",
   "execution_count": 16,
   "id": "ee314d4a",
   "metadata": {},
   "outputs": [],
   "source": [
    "a, b, c = [2, 3, 1]"
   ]
  },
  {
   "cell_type": "code",
   "execution_count": 13,
   "id": "3264ea94",
   "metadata": {},
   "outputs": [
    {
     "data": {
      "text/plain": [
       "2"
      ]
     },
     "execution_count": 13,
     "metadata": {},
     "output_type": "execute_result"
    }
   ],
   "source": [
    "a"
   ]
  },
  {
   "cell_type": "code",
   "execution_count": 15,
   "id": "5f420b55",
   "metadata": {},
   "outputs": [
    {
     "data": {
      "text/plain": [
       "1"
      ]
     },
     "execution_count": 15,
     "metadata": {},
     "output_type": "execute_result"
    }
   ],
   "source": [
    "c"
   ]
  },
  {
   "cell_type": "code",
   "execution_count": 10,
   "id": "560fe983",
   "metadata": {},
   "outputs": [
    {
     "data": {
      "text/plain": [
       "3"
      ]
     },
     "execution_count": 10,
     "metadata": {},
     "output_type": "execute_result"
    }
   ],
   "source": [
    "b"
   ]
  },
  {
   "cell_type": "code",
   "execution_count": 17,
   "id": "749f43fd",
   "metadata": {},
   "outputs": [
    {
     "data": {
      "text/plain": [
       "1"
      ]
     },
     "execution_count": 17,
     "metadata": {},
     "output_type": "execute_result"
    }
   ],
   "source": [
    "c"
   ]
  },
  {
   "cell_type": "code",
   "execution_count": null,
   "id": "1fe13618",
   "metadata": {},
   "outputs": [],
   "source": []
  },
  {
   "cell_type": "markdown",
   "id": "422f21a7",
   "metadata": {},
   "source": [
    "# List operations\n",
    "In this section, you will learn slicing, accessing, adding, deleting, and updating the values in a list.\n",
    "\n",
    "###Accessing list values\n",
    "In order to access list values, use list names with positional index in square brackets."
   ]
  },
  {
   "cell_type": "code",
   "execution_count": null,
   "id": "92965d87",
   "metadata": {},
   "outputs": [],
   "source": [
    "0,1,2"
   ]
  },
  {
   "cell_type": "code",
   "execution_count": 18,
   "id": "56bae055",
   "metadata": {},
   "outputs": [],
   "source": [
    "Avengers = ['hulk', 'iron-man', 'Captain', 'Thor', 5, [\"Ali\", \"Simbi\"]]\n",
    "\n",
    "\n",
    "# different examples of slicing\n",
    "\n",
    "\n",
    "\n",
    "#list1 = [1,2,3,4,5,6,7,8,9,10,11,12,13]\n",
    "\n",
    "\n",
    "# move through the list in step of 3"
   ]
  },
  {
   "cell_type": "code",
   "execution_count": 30,
   "id": "f6eda3ea",
   "metadata": {},
   "outputs": [
    {
     "data": {
      "text/plain": [
       "['hulk', 'iron-man', 'Captain', 'Thor', 5, ['Ali', 'Simbi']]"
      ]
     },
     "execution_count": 30,
     "metadata": {},
     "output_type": "execute_result"
    }
   ],
   "source": [
    "Avengers"
   ]
  },
  {
   "cell_type": "code",
   "execution_count": 28,
   "id": "fd8dd839",
   "metadata": {},
   "outputs": [
    {
     "data": {
      "text/plain": [
       "'A'"
      ]
     },
     "execution_count": 28,
     "metadata": {},
     "output_type": "execute_result"
    }
   ],
   "source": [
    "Avengers[5][0][0]"
   ]
  },
  {
   "cell_type": "code",
   "execution_count": 23,
   "id": "315dcc0e",
   "metadata": {},
   "outputs": [
    {
     "data": {
      "text/plain": [
       "['Ali', 'Simbi']"
      ]
     },
     "execution_count": 23,
     "metadata": {},
     "output_type": "execute_result"
    }
   ],
   "source": [
    "#slice to get the value Ali\n",
    "Avengers[5]"
   ]
  },
  {
   "cell_type": "code",
   "execution_count": 22,
   "id": "c97b0ca4",
   "metadata": {},
   "outputs": [
    {
     "data": {
      "text/plain": [
       "'A'"
      ]
     },
     "execution_count": 22,
     "metadata": {},
     "output_type": "execute_result"
    }
   ],
   "source": [
    "Avengers[5][0][0]"
   ]
  },
  {
   "cell_type": "code",
   "execution_count": 34,
   "id": "663afed3",
   "metadata": {},
   "outputs": [
    {
     "data": {
      "text/plain": [
       "'a'"
      ]
     },
     "execution_count": 34,
     "metadata": {},
     "output_type": "execute_result"
    }
   ],
   "source": [
    "#slice to get the value A in Iron-man\n",
    "Avengers[1][6]"
   ]
  },
  {
   "cell_type": "code",
   "execution_count": 36,
   "id": "9a17dc35",
   "metadata": {},
   "outputs": [
    {
     "data": {
      "text/plain": [
       "'i'"
      ]
     },
     "execution_count": 36,
     "metadata": {},
     "output_type": "execute_result"
    }
   ],
   "source": [
    "#slice to get the value I in Simbi\n",
    "Avengers[5][1][1]"
   ]
  },
  {
   "cell_type": "markdown",
   "id": "04c1ef29",
   "metadata": {},
   "source": [
    "# Updating the list\n",
    "- Lists are mutable, so the values of a list can be updated."
   ]
  },
  {
   "cell_type": "code",
   "execution_count": 42,
   "id": "7d83e912",
   "metadata": {},
   "outputs": [],
   "source": [
    "Avengers = ['hulk', 'iron-man', 'Captain', 'Thor', 5, [\"Ali\", \"Simbi\"]]\n",
    "\n",
    "# update the 3rd element to \"Captain-America\"\n",
    "Avengers[2] = \"Captain-America\""
   ]
  },
  {
   "cell_type": "code",
   "execution_count": 43,
   "id": "bc8b510d",
   "metadata": {},
   "outputs": [],
   "source": [
    "Avengers = ['hulk', 'iron-man', 'Captain', 'Thor', 5, [\"Ali\", \"Simbi\"]]"
   ]
  },
  {
   "cell_type": "code",
   "execution_count": 38,
   "id": "a81c16e4",
   "metadata": {},
   "outputs": [],
   "source": [
    "Avengers[2] = \"Captain American\""
   ]
  },
  {
   "cell_type": "code",
   "execution_count": null,
   "id": "7d9a4657",
   "metadata": {},
   "outputs": [],
   "source": [
    "Avengers"
   ]
  },
  {
   "cell_type": "code",
   "execution_count": 49,
   "id": "b734e031",
   "metadata": {},
   "outputs": [
    {
     "data": {
      "text/plain": [
       "['hulk', 'iron-man', 'Captain', 'Thor', 5, ['Ali', 'Simbi']]"
      ]
     },
     "execution_count": 49,
     "metadata": {},
     "output_type": "execute_result"
    }
   ],
   "source": [
    "update = Avengers\n",
    "update"
   ]
  },
  {
   "cell_type": "markdown",
   "id": "42595405",
   "metadata": {},
   "source": [
    "# Deleting values from a list\n",
    "- By using the $del$ keyword, you can delete a value or a slice of list from the list. "
   ]
  },
  {
   "cell_type": "code",
   "execution_count": null,
   "id": "567edefa",
   "metadata": {},
   "outputs": [],
   "source": [
    "C_W_team = ['hulk', 'iron-man', 'Captain-America', 'Thor',\"Vision\"]\n",
    "\n",
    "# delete the first element from the list\n",
    "\n",
    "#del C_W_team[0]"
   ]
  },
  {
   "cell_type": "code",
   "execution_count": 45,
   "id": "ad5bbcab",
   "metadata": {},
   "outputs": [],
   "source": [
    "C_W_team = ['hulk', 'iron-man', 'Captain-America', 'Thor',\"Vision\"]"
   ]
  },
  {
   "cell_type": "code",
   "execution_count": 46,
   "id": "b1271154",
   "metadata": {},
   "outputs": [
    {
     "data": {
      "text/plain": [
       "['hulk', 'iron-man', 'Captain-America', 'Thor', 'Vision']"
      ]
     },
     "execution_count": 46,
     "metadata": {},
     "output_type": "execute_result"
    }
   ],
   "source": [
    "C_W_team"
   ]
  },
  {
   "cell_type": "code",
   "execution_count": 47,
   "id": "c982db92",
   "metadata": {},
   "outputs": [],
   "source": [
    "del C_W_team[0]"
   ]
  },
  {
   "cell_type": "code",
   "execution_count": 48,
   "id": "601ce0cf",
   "metadata": {},
   "outputs": [
    {
     "data": {
      "text/plain": [
       "['iron-man', 'Captain-America', 'Thor', 'Vision']"
      ]
     },
     "execution_count": 48,
     "metadata": {},
     "output_type": "execute_result"
    }
   ],
   "source": [
    "C_W_team"
   ]
  },
  {
   "cell_type": "markdown",
   "id": "cd950a5e",
   "metadata": {},
   "source": [
    "# Addition of python list"
   ]
  },
  {
   "cell_type": "code",
   "execution_count": 52,
   "id": "da528a3d",
   "metadata": {},
   "outputs": [],
   "source": [
    "Avengers1 = [\"Hull\", \"Iron_man\", \"Thor\"]\n",
    "Avengers2 = [\"Vision\", \"sam\"]"
   ]
  },
  {
   "cell_type": "code",
   "execution_count": 54,
   "id": "1fb46750",
   "metadata": {},
   "outputs": [
    {
     "data": {
      "text/plain": [
       "['Hull', 'Iron_man', 'Thor', 'Vision', 'sam']"
      ]
     },
     "execution_count": 54,
     "metadata": {},
     "output_type": "execute_result"
    }
   ],
   "source": [
    "sum_avengers = Avengers1  + Avengers2 \n",
    "sum_avengers"
   ]
  },
  {
   "cell_type": "code",
   "execution_count": 55,
   "id": "655517f9",
   "metadata": {},
   "outputs": [
    {
     "data": {
      "text/plain": [
       "'Thor'"
      ]
     },
     "execution_count": 55,
     "metadata": {},
     "output_type": "execute_result"
    }
   ],
   "source": [
    "sum_avengers[2]"
   ]
  },
  {
   "cell_type": "code",
   "execution_count": null,
   "id": "794e67f6",
   "metadata": {},
   "outputs": [],
   "source": [
    "Avengers1 = [\"Hull\", \"Iron_man\", \"Thor\"]\n",
    "Avengers2 = [\"Vision\", \"sam\"]"
   ]
  },
  {
   "cell_type": "markdown",
   "id": "3ced7e46",
   "metadata": {},
   "source": [
    "# Appends and Extends"
   ]
  },
  {
   "cell_type": "code",
   "execution_count": 62,
   "id": "c9a39dd4",
   "metadata": {},
   "outputs": [],
   "source": [
    "new = Avengers1.extend(Avengers2)\n",
    "new"
   ]
  },
  {
   "cell_type": "code",
   "execution_count": 63,
   "id": "fd2ca45e",
   "metadata": {},
   "outputs": [],
   "source": [
    "new"
   ]
  },
  {
   "cell_type": "markdown",
   "id": "da0ea8fc",
   "metadata": {},
   "source": [
    "## Dictionaries\n",
    "- In Python, a dictionary is a sequence of key-value, or item pairs separated by commas. \n",
    "- Consider the following example:\n",
    "    - port = {22: \"SSH\", 23: \"Telnet\" , 53: \"DNS\", 80: \"HTTP\" } \n",
    "- The port variable refers to a dictionary that contains port numbers as keys and its protocol names as values. \n",
    "- Consider the following example:\n",
    "    - companies = {\"IBM\": \"International Business Machines\", \"L&T\" :\"Larsen & Toubro\"} \n",
    "- The syntax of a dictionary is as follows:\n",
    "    - Dictionary_name = {key: value}"
   ]
  },
  {
   "cell_type": "code",
   "execution_count": 64,
   "id": "1e0c59a7",
   "metadata": {},
   "outputs": [],
   "source": [
    "port = {22: \"SSH\", 23: \"Telnet\" , 53: \"DNS\", 80: \"HTTP\" }"
   ]
  },
  {
   "cell_type": "code",
   "execution_count": 75,
   "id": "cee129f8",
   "metadata": {},
   "outputs": [],
   "source": [
    "port = {22: \n",
    "        \"SSH\", 23: \"Telnet\" , 53: \"DNS\", 80: \"HTTP\" }"
   ]
  },
  {
   "cell_type": "code",
   "execution_count": 65,
   "id": "b7f2cea5",
   "metadata": {},
   "outputs": [
    {
     "data": {
      "text/plain": [
       "{22: 'SSH', 23: 'Telnet', 53: 'DNS', 80: 'HTTP'}"
      ]
     },
     "execution_count": 65,
     "metadata": {},
     "output_type": "execute_result"
    }
   ],
   "source": [
    "port"
   ]
  },
  {
   "cell_type": "code",
   "execution_count": 66,
   "id": "b7f97633",
   "metadata": {},
   "outputs": [],
   "source": [
    "del port[80]"
   ]
  },
  {
   "cell_type": "code",
   "execution_count": 67,
   "id": "2b5a0618",
   "metadata": {},
   "outputs": [
    {
     "data": {
      "text/plain": [
       "{22: 'SSH', 23: 'Telnet', 53: 'DNS'}"
      ]
     },
     "execution_count": 67,
     "metadata": {},
     "output_type": "execute_result"
    }
   ],
   "source": [
    "port"
   ]
  },
  {
   "cell_type": "markdown",
   "id": "4fefff71",
   "metadata": {},
   "source": [
    "# Comparison Operators"
   ]
  },
  {
   "cell_type": "code",
   "execution_count": 68,
   "id": "cc26dd83",
   "metadata": {},
   "outputs": [
    {
     "data": {
      "text/plain": [
       "False"
      ]
     },
     "execution_count": 68,
     "metadata": {},
     "output_type": "execute_result"
    }
   ],
   "source": [
    "1>2"
   ]
  },
  {
   "cell_type": "code",
   "execution_count": 69,
   "id": "3905c072",
   "metadata": {},
   "outputs": [
    {
     "data": {
      "text/plain": [
       "False"
      ]
     },
     "execution_count": 69,
     "metadata": {},
     "output_type": "execute_result"
    }
   ],
   "source": [
    "2<1"
   ]
  },
  {
   "cell_type": "code",
   "execution_count": 70,
   "id": "090d7a0c",
   "metadata": {},
   "outputs": [
    {
     "data": {
      "text/plain": [
       "True"
      ]
     },
     "execution_count": 70,
     "metadata": {},
     "output_type": "execute_result"
    }
   ],
   "source": [
    "1<9"
   ]
  },
  {
   "cell_type": "markdown",
   "id": "a62c8027",
   "metadata": {},
   "source": [
    "# Logical Operator "
   ]
  },
  {
   "cell_type": "code",
   "execution_count": null,
   "id": "23ed0de3",
   "metadata": {},
   "outputs": [],
   "source": [
    "AND OR "
   ]
  },
  {
   "cell_type": "code",
   "execution_count": 71,
   "id": "dc179437",
   "metadata": {},
   "outputs": [
    {
     "data": {
      "text/plain": [
       "False"
      ]
     },
     "execution_count": 71,
     "metadata": {},
     "output_type": "execute_result"
    }
   ],
   "source": [
    "(1>2) and (2<3)"
   ]
  },
  {
   "cell_type": "code",
   "execution_count": 72,
   "id": "3304ff1d",
   "metadata": {},
   "outputs": [
    {
     "data": {
      "text/plain": [
       "False"
      ]
     },
     "execution_count": 72,
     "metadata": {},
     "output_type": "execute_result"
    }
   ],
   "source": [
    "(1>2) and (2>3)"
   ]
  },
  {
   "cell_type": "code",
   "execution_count": 74,
   "id": "3d7c3e71",
   "metadata": {},
   "outputs": [
    {
     "data": {
      "text/plain": [
       "True"
      ]
     },
     "execution_count": 74,
     "metadata": {},
     "output_type": "execute_result"
    }
   ],
   "source": [
    "(1==2) or (2==3) or (4==4)"
   ]
  },
  {
   "cell_type": "markdown",
   "id": "730ca088",
   "metadata": {},
   "source": [
    "# if, elif, else statement "
   ]
  },
  {
   "cell_type": "markdown",
   "id": "9c4b9966",
   "metadata": {},
   "source": [
    "if -  for one condition \n",
    "elif --- in between condtion\n",
    "else - Last Conditional statement "
   ]
  },
  {
   "cell_type": "markdown",
   "id": "c6066e75",
   "metadata": {},
   "source": [
    "1 - if\n",
    "2 - elif\n",
    "3- elif\n",
    "4- elif \n",
    "5 - else "
   ]
  },
  {
   "cell_type": "markdown",
   "id": "7e8f9ded",
   "metadata": {},
   "source": [
    "Indentation block : "
   ]
  },
  {
   "cell_type": "code",
   "execution_count": 76,
   "id": "bba22f7d",
   "metadata": {},
   "outputs": [
    {
     "name": "stdout",
     "output_type": "stream",
     "text": [
      "Yep!!!\n"
     ]
    }
   ],
   "source": [
    "#print a statement to know if 1 is greater than 2\n",
    "\n",
    "if 1 < 2:\n",
    "    print(\"Yep!!!\")"
   ]
  },
  {
   "cell_type": "code",
   "execution_count": 83,
   "id": "c85b62ca",
   "metadata": {},
   "outputs": [
    {
     "name": "stdout",
     "output_type": "stream",
     "text": [
      "No!!!\n"
     ]
    }
   ],
   "source": [
    "#print a statement to know if 100 is equal to 50 \n",
    "if 100==50:\n",
    "    print(\"yes\")\n",
    "else: \n",
    "    print(\"No!!!\")"
   ]
  },
  {
   "cell_type": "code",
   "execution_count": 86,
   "id": "7aec817c",
   "metadata": {},
   "outputs": [
    {
     "name": "stdout",
     "output_type": "stream",
     "text": [
      "Good!\n"
     ]
    }
   ],
   "source": [
    "#print a statement to know if  80 is greater than 40, if it is greater print Good, if not print Bad\n",
    "if 80 > 40:\n",
    "    print(\"Good!\")\n",
    "else:\n",
    "    print(\"Bad!\")"
   ]
  },
  {
   "cell_type": "code",
   "execution_count": 88,
   "id": "31411a09",
   "metadata": {},
   "outputs": [
    {
     "name": "stdout",
     "output_type": "stream",
     "text": [
      "Not vaild\n"
     ]
    }
   ],
   "source": [
    "# write a python statement to print the output if 2 is greater or equal 3 if it is return Valid, if not retun not valid\n",
    "if 2 >= 3:\n",
    "    print(\"Vaild\")\n",
    "else:\n",
    "    print(\"Not vaild\")"
   ]
  },
  {
   "cell_type": "code",
   "execution_count": 89,
   "id": "3cda2587",
   "metadata": {},
   "outputs": [
    {
     "name": "stdout",
     "output_type": "stream",
     "text": [
      "middle\n"
     ]
    }
   ],
   "source": [
    "if 3>=9:\n",
    "    print(\"first\")\n",
    "elif 4==4:\n",
    "    print(\"middle\")\n",
    "else:\n",
    "    print(\"Last\")"
   ]
  },
  {
   "cell_type": "markdown",
   "id": "9a85b49f",
   "metadata": {},
   "source": [
    "# For Loops"
   ]
  },
  {
   "cell_type": "markdown",
   "id": "c0645230",
   "metadata": {},
   "source": [
    "Loop is a control flow statement used to iterate over a sequence (such as list, tuple, stings etc)\n",
    "Break dwon of loop \n",
    "Variable: The placeholder\n",
    "Sequence: The iterable object you want to loop over \n",
    "code block: The indented code\n",
    "\n",
    "Loop works with a list bracket"
   ]
  },
  {
   "cell_type": "code",
   "execution_count": 96,
   "id": "97fe56ff",
   "metadata": {
    "scrolled": true
   },
   "outputs": [
    {
     "name": "stdout",
     "output_type": "stream",
     "text": [
      "Apple\n",
      "Mango\n",
      "cherry\n",
      "orange\n"
     ]
    }
   ],
   "source": [
    "fruits = [\"Apple\", \"Mango\", \"cherry\",\"orange\"]\n",
    "for item in fruits:\n",
    "    print(item)"
   ]
  },
  {
   "cell_type": "code",
   "execution_count": 101,
   "id": "3194024c",
   "metadata": {},
   "outputs": [
    {
     "name": "stdout",
     "output_type": "stream",
     "text": [
      "Apple\n",
      "Mango\n",
      "cherry\n",
      "orange\n"
     ]
    }
   ],
   "source": [
    "fruits = [\"Apple\", \"Mango\", \"cherry\",\"orange\"]\n",
    "for x in fruits:\n",
    "    print(x)"
   ]
  },
  {
   "cell_type": "code",
   "execution_count": 102,
   "id": "f25059be",
   "metadata": {},
   "outputs": [
    {
     "name": "stdout",
     "output_type": "stream",
     "text": [
      "Newport\n",
      "Cardiif\n",
      "Bangor\n",
      "Derry\n",
      "Lisburn\n",
      "Bristol\n",
      "Sheffield\n",
      "London\n"
     ]
    }
   ],
   "source": [
    "towns = [\"Newport\", \"Cardiif\", \"Bangor\", \"Derry\", \"Lisburn\", \"Bristol\", \"Sheffield\", \"London\"]\n",
    "for cities in towns:\n",
    "    print(cities)"
   ]
  },
  {
   "cell_type": "code",
   "execution_count": 103,
   "id": "f642917e",
   "metadata": {},
   "outputs": [
    {
     "data": {
      "text/plain": [
       "['Newport',\n",
       " 'Cardiif',\n",
       " 'Bangor',\n",
       " 'Derry',\n",
       " 'Lisburn',\n",
       " 'Bristol',\n",
       " 'Sheffield',\n",
       " 'London']"
      ]
     },
     "execution_count": 103,
     "metadata": {},
     "output_type": "execute_result"
    }
   ],
   "source": [
    "towns = [\"Newport\", \"Cardiif\", \"Bangor\", \"Derry\", \"Lisburn\", \"Bristol\", \"Sheffield\", \"London\"]\n",
    "towns"
   ]
  },
  {
   "cell_type": "code",
   "execution_count": null,
   "id": "b2aea145",
   "metadata": {},
   "outputs": [],
   "source": []
  }
 ],
 "metadata": {
  "kernelspec": {
   "display_name": "Python 3 (ipykernel)",
   "language": "python",
   "name": "python3"
  },
  "language_info": {
   "codemirror_mode": {
    "name": "ipython",
    "version": 3
   },
   "file_extension": ".py",
   "mimetype": "text/x-python",
   "name": "python",
   "nbconvert_exporter": "python",
   "pygments_lexer": "ipython3",
   "version": "3.10.9"
  }
 },
 "nbformat": 4,
 "nbformat_minor": 5
}
